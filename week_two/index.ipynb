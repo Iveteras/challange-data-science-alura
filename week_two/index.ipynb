{
 "cells": [
  {
   "cell_type": "code",
   "execution_count": 9,
   "metadata": {},
   "outputs": [],
   "source": [
    "import pandas as pd\n",
    "\n",
    "\n",
    "path = '../week_one/data/anuncios_vendas.parquet'\n",
    "df_anuncios_vendas = pd.read_parquet(path)"
   ]
  },
  {
   "cell_type": "code",
   "execution_count": 10,
   "metadata": {},
   "outputs": [],
   "source": [
    "# Checking the column with more NaN values\n",
    "\n",
    "area_nan = df_anuncios_vendas[df_anuncios_vendas['area_util'].isnull()].shape[0] # return 0\n",
    "andar_nan = df_anuncios_vendas[df_anuncios_vendas['andar'].isnull()].shape[0] # return 0\n",
    "vaga_nan = df_anuncios_vendas[df_anuncios_vendas['vaga'].isnull()].shape[0] # return 0\n",
    "suites_nan = df_anuncios_vendas[df_anuncios_vendas['suites'].isnull()].shape[0] # return 0\n",
    "banheiros_nan = df_anuncios_vendas[df_anuncios_vendas['banheiros'].isnull()].shape[0] # return 0\n",
    "area_total_nan = df_anuncios_vendas[df_anuncios_vendas['area_total'].isnull()].shape[0] # return 0\n",
    "quartos_nan = df_anuncios_vendas[df_anuncios_vendas['quartos'].isnull()].shape[0] # return 0\n",
    "iptu_nan = df_anuncios_vendas[df_anuncios_vendas['iptu'].isnull()].shape[0] # return 10362\n",
    "condominio_nan = df_anuncios_vendas[df_anuncios_vendas['condominio'].isnull()].shape[0] # return 5881\n",
    "valor_nan = df_anuncios_vendas[df_anuncios_vendas['valor'].isnull()].shape[0] # return 28\n"
   ]
  },
  {
   "cell_type": "code",
   "execution_count": 11,
   "metadata": {},
   "outputs": [
    {
     "name": "stdout",
     "output_type": "stream",
     "text": [
      "18508\n",
      "69764\n"
     ]
    }
   ],
   "source": [
    "# Cheking the values in area_util and area_total\n",
    "number_of_equals_values = []\n",
    "number_of_diferent_values = []\n",
    "\n",
    "for index in df_anuncios_vendas.index:\n",
    "    \n",
    "    row = df_anuncios_vendas.iloc[index]\n",
    "\n",
    "    if (row['area_total'] == row['area_util']):\n",
    "        number_of_equals_values.append(1)\n",
    "    if (row['area_total'] != row['area_util']):\n",
    "        number_of_diferent_values.append(1)\n",
    "\n",
    "print(len(number_of_diferent_values)) # return 18508\n",
    "print(len(number_of_equals_values)) # return 69764\n"
   ]
  },
  {
   "cell_type": "code",
   "execution_count": 12,
   "metadata": {},
   "outputs": [],
   "source": [
    "# Deleting the 'area_util', 'tipo_anuncio', 'tipo_unidade', 'tipo_uso', 'tipo'\n",
    "\n",
    "df_anuncios_vendas.drop('area_util', inplace=True, axis=1)\n",
    "df_anuncios_vendas.drop('tipo_anuncio', inplace=True, axis=1)\n",
    "df_anuncios_vendas.drop('tipo_unidade', inplace=True, axis=1)\n",
    "df_anuncios_vendas.drop('tipo_uso', inplace=True, axis=1)\n",
    "df_anuncios_vendas.drop('tipo', inplace=True, axis=1)"
   ]
  },
  {
   "cell_type": "code",
   "execution_count": 13,
   "metadata": {},
   "outputs": [],
   "source": [
    "# \"area_total\", \"condominio\", \"iptu\" and \"valor\" to double\n",
    "\n",
    "df_anuncios_vendas['area_total'] = df_anuncios_vendas['area_total'].astype('float')\n",
    "df_anuncios_vendas['condominio'] = df_anuncios_vendas['condominio'].astype('float')\n",
    "df_anuncios_vendas['iptu'] = df_anuncios_vendas['iptu'].astype('float')\n",
    "df_anuncios_vendas['valor'] = df_anuncios_vendas['valor'].astype('float')\n"
   ]
  },
  {
   "cell_type": "code",
   "execution_count": 14,
   "metadata": {},
   "outputs": [],
   "source": [
    "# Turning lists in 'caracteristicas' without elements into null  \n",
    "# Turning 'caracteristicas' into dummy: none = 0, it has something = 1\n",
    "\n",
    "new_caracteristicas = []\n",
    "for element in df_anuncios_vendas['caracteristicas']:\n",
    "    element_to_list = eval(element)\n",
    "\n",
    "    if (element_to_list == []):\n",
    "        new_caracteristicas.append(None)\n",
    "    else:\n",
    "        new_caracteristicas.append(1)\n",
    "\n",
    "df_anuncios_vendas['caracteristicas'] = new_caracteristicas\n"
   ]
  },
  {
   "cell_type": "code",
   "execution_count": 15,
   "metadata": {},
   "outputs": [],
   "source": [
    "# filling all NaN with 0\n",
    "\n",
    "df_anuncios_vendas.fillna(0, inplace = True)"
   ]
  },
  {
   "cell_type": "code",
   "execution_count": null,
   "metadata": {},
   "outputs": [],
   "source": [
    "# Exporting as parquet\n",
    "\n",
    "df_anuncios_vendas.to_parquet('../week_one/data/anuncios_vendas_to_machine_learning.parquet', index=False)"
   ]
  }
 ],
 "metadata": {
  "kernelspec": {
   "display_name": "Python 3.11.0 64-bit",
   "language": "python",
   "name": "python3"
  },
  "language_info": {
   "codemirror_mode": {
    "name": "ipython",
    "version": 3
   },
   "file_extension": ".py",
   "mimetype": "text/x-python",
   "name": "python",
   "nbconvert_exporter": "python",
   "pygments_lexer": "ipython3",
   "version": "3.11.0"
  },
  "orig_nbformat": 4,
  "vscode": {
   "interpreter": {
    "hash": "b93d7f58fa87cccc1c54a1bb58fde30533742810013d86233f92d0fba50587f2"
   }
  }
 },
 "nbformat": 4,
 "nbformat_minor": 2
}
